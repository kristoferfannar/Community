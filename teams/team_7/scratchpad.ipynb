{
 "cells": [
  {
   "cell_type": "code",
   "id": "initial_id",
   "metadata": {
    "collapsed": true,
    "ExecuteTime": {
     "end_time": "2024-11-23T03:52:19.555329Z",
     "start_time": "2024-11-23T03:52:19.552627Z"
    }
   },
   "source": [
    "import numpy as np\n",
    "\n",
    "arr = [1, 2, 3, 4, 5, 6, 7, 8, 9, 10]\n",
    "round(np.percentile(np.array(arr), 25))\n",
    "#sorted(enumerate([[1, 2, 3, 4], [5, 6, 7, 8]]), key=lambda x: sum(x[1]), reverse=True)\n"
   ],
   "outputs": [
    {
     "data": {
      "text/plain": [
       "3"
      ]
     },
     "execution_count": 46,
     "metadata": {},
     "output_type": "execute_result"
    }
   ],
   "execution_count": 46
  },
  {
   "metadata": {
    "ExecuteTime": {
     "end_time": "2024-11-23T02:35:00.502471Z",
     "start_time": "2024-11-23T02:35:00.498097Z"
    }
   },
   "cell_type": "code",
   "source": [
    "num_players = 4 \n",
    "num_abilities = 5\n",
    "\n",
    "player = [4, 7, 3, 9, 2]  # Replace with your player's list\n",
    "partners = np.random.randint(0, 10, size=(num_players-1, num_abilities)) \n",
    "tasks = np.random.randint(0, 10, size=(num_players*2, num_abilities))\n",
    "\n",
    "# Create a list of all zipped player/partner combinations\n",
    "partnered_abilities = np.array([player] + [[int(max(p, q)) for p, q in zip(player, partner)] for partner in partners])\n",
    "print(f\"partnered_abilities: {partnered_abilities, type(partnered_abilities)}\")\n",
    "\n",
    "# Get penalty Matrix \n",
    "partnered_abilities = np.array(partnered_abilities) \n",
    "penalty_matrix = [] \n",
    "\n",
    "for i, team in enumerate(partnered_abilities):\n",
    "    print(i, team)\n",
    "    penalties = []\n",
    "    for task_index, task in enumerate(tasks):\n",
    "        # Calculate energy expended as the sum of positive differences split between two partners\n",
    "        print(task, team)\n",
    "        penalty = np.sum(np.maximum(0, task - team)) / 2\n",
    "        print(f\"penalty: {penalty}\")\n",
    "        # First value is individual completing the task\n",
    "        if i == 0:\n",
    "            penalty = penalty * 2\n",
    "        penalties.append((task_index, penalty))\n",
    "    penalty_matrix.append(penalties)\n",
    "\n",
    "    \n",
    "    \n",
    "# bids: [task_index, partner.id]\n",
    "print(penalty_matrix)\n"
   ],
   "id": "dde5f87dda00f13f",
   "outputs": [
    {
     "name": "stdout",
     "output_type": "stream",
     "text": [
      "partnered_abilities: (array([[4, 7, 3, 9, 2],\n",
      "       [7, 7, 5, 9, 2],\n",
      "       [4, 7, 3, 9, 2],\n",
      "       [8, 7, 3, 9, 9]]), <class 'numpy.ndarray'>)\n",
      "0 [4 7 3 9 2]\n",
      "[2 3 1 3 3] [4 7 3 9 2]\n",
      "penalty: 0.5\n",
      "[3 9 0 1 5] [4 7 3 9 2]\n",
      "penalty: 2.5\n",
      "[0 9 3 7 7] [4 7 3 9 2]\n",
      "penalty: 3.5\n",
      "[8 1 6 0 6] [4 7 3 9 2]\n",
      "penalty: 5.5\n",
      "[6 1 2 7 5] [4 7 3 9 2]\n",
      "penalty: 2.5\n",
      "[0 2 7 7 6] [4 7 3 9 2]\n",
      "penalty: 4.0\n",
      "[8 7 6 3 8] [4 7 3 9 2]\n",
      "penalty: 6.5\n",
      "[0 0 8 7 2] [4 7 3 9 2]\n",
      "penalty: 2.5\n",
      "1 [7 7 5 9 2]\n",
      "[2 3 1 3 3] [7 7 5 9 2]\n",
      "penalty: 0.5\n",
      "[3 9 0 1 5] [7 7 5 9 2]\n",
      "penalty: 2.5\n",
      "[0 9 3 7 7] [7 7 5 9 2]\n",
      "penalty: 3.5\n",
      "[8 1 6 0 6] [7 7 5 9 2]\n",
      "penalty: 3.0\n",
      "[6 1 2 7 5] [7 7 5 9 2]\n",
      "penalty: 1.5\n",
      "[0 2 7 7 6] [7 7 5 9 2]\n",
      "penalty: 3.0\n",
      "[8 7 6 3 8] [7 7 5 9 2]\n",
      "penalty: 4.0\n",
      "[0 0 8 7 2] [7 7 5 9 2]\n",
      "penalty: 1.5\n",
      "2 [4 7 3 9 2]\n",
      "[2 3 1 3 3] [4 7 3 9 2]\n",
      "penalty: 0.5\n",
      "[3 9 0 1 5] [4 7 3 9 2]\n",
      "penalty: 2.5\n",
      "[0 9 3 7 7] [4 7 3 9 2]\n",
      "penalty: 3.5\n",
      "[8 1 6 0 6] [4 7 3 9 2]\n",
      "penalty: 5.5\n",
      "[6 1 2 7 5] [4 7 3 9 2]\n",
      "penalty: 2.5\n",
      "[0 2 7 7 6] [4 7 3 9 2]\n",
      "penalty: 4.0\n",
      "[8 7 6 3 8] [4 7 3 9 2]\n",
      "penalty: 6.5\n",
      "[0 0 8 7 2] [4 7 3 9 2]\n",
      "penalty: 2.5\n",
      "3 [8 7 3 9 9]\n",
      "[2 3 1 3 3] [8 7 3 9 9]\n",
      "penalty: 0.0\n",
      "[3 9 0 1 5] [8 7 3 9 9]\n",
      "penalty: 1.0\n",
      "[0 9 3 7 7] [8 7 3 9 9]\n",
      "penalty: 1.0\n",
      "[8 1 6 0 6] [8 7 3 9 9]\n",
      "penalty: 1.5\n",
      "[6 1 2 7 5] [8 7 3 9 9]\n",
      "penalty: 0.0\n",
      "[0 2 7 7 6] [8 7 3 9 9]\n",
      "penalty: 2.0\n",
      "[8 7 6 3 8] [8 7 3 9 9]\n",
      "penalty: 1.5\n",
      "[0 0 8 7 2] [8 7 3 9 9]\n",
      "penalty: 2.5\n",
      "[[(0, np.float64(1.0)), (1, np.float64(5.0)), (2, np.float64(7.0)), (3, np.float64(11.0)), (4, np.float64(5.0)), (5, np.float64(8.0)), (6, np.float64(13.0)), (7, np.float64(5.0))], [(0, np.float64(0.5)), (1, np.float64(2.5)), (2, np.float64(3.5)), (3, np.float64(3.0)), (4, np.float64(1.5)), (5, np.float64(3.0)), (6, np.float64(4.0)), (7, np.float64(1.5))], [(0, np.float64(0.5)), (1, np.float64(2.5)), (2, np.float64(3.5)), (3, np.float64(5.5)), (4, np.float64(2.5)), (5, np.float64(4.0)), (6, np.float64(6.5)), (7, np.float64(2.5))], [(0, np.float64(0.0)), (1, np.float64(1.0)), (2, np.float64(1.0)), (3, np.float64(1.5)), (4, np.float64(0.0)), (5, np.float64(2.0)), (6, np.float64(1.5)), (7, np.float64(2.5))]]\n"
     ]
    }
   ],
   "execution_count": 37
  },
  {
   "metadata": {
    "ExecuteTime": {
     "end_time": "2024-11-23T02:19:19.735583Z",
     "start_time": "2024-11-23T02:19:19.733491Z"
    }
   },
   "cell_type": "code",
   "source": [
    "player = enumerate(partners)\n",
    "player"
   ],
   "id": "49c53cf2636b9a19",
   "outputs": [
    {
     "data": {
      "text/plain": [
       "<enumerate at 0x10dc1a1b0>"
      ]
     },
     "execution_count": 13,
     "metadata": {},
     "output_type": "execute_result"
    }
   ],
   "execution_count": 13
  },
  {
   "metadata": {
    "ExecuteTime": {
     "end_time": "2024-11-23T02:19:26.340049Z",
     "start_time": "2024-11-23T02:19:26.337939Z"
    }
   },
   "cell_type": "code",
   "source": [
    "for i, p in enumerate(player):\n",
    "    print(i, p)"
   ],
   "id": "e73a8ee8a1fe8b2e",
   "outputs": [
    {
     "name": "stdout",
     "output_type": "stream",
     "text": [
      "0 (0, [5, 6, 8, 3, 4])\n",
      "1 (1, [1, 9, 2, 5, 8])\n",
      "2 (2, [6, 4, 7, 8, 1])\n",
      "3 (3, [3, 5, 6, 4, 7])\n"
     ]
    }
   ],
   "execution_count": 14
  },
  {
   "metadata": {
    "ExecuteTime": {
     "end_time": "2024-11-22T17:27:30.321373Z",
     "start_time": "2024-11-22T17:27:30.299512Z"
    }
   },
   "cell_type": "code",
   "source": [
    "import numpy as np\n",
    "import pandas as pd\n",
    "\n",
    "def calculate_penalty_matrix(players, tasks):\n",
    "    \"\"\"\n",
    "    Calculate the penalty matrix for given players and tasks.\n",
    "    \n",
    "    Args:\n",
    "    - players: A 2D list or array where each row represents a player's abilities.\n",
    "    - tasks: A 2D list or array where each row represents a task's requirements.\n",
    "    \n",
    "    Returns:\n",
    "    - A 2D numpy array containing the penalties for each player-task pair.\n",
    "    \"\"\"\n",
    "    players = np.array(players)\n",
    "    tasks = np.array(tasks)\n",
    "    penalty_matrix = []\n",
    "    \n",
    "    for player in players:\n",
    "        penalties = []\n",
    "        for task in tasks:\n",
    "            # Calculate energy expended as the sum of positive differences\n",
    "            penalty = np.sum(np.maximum(0, task - player))\n",
    "            penalties.append(penalty)\n",
    "        penalty_matrix.append(penalties)\n",
    "    \n",
    "    return np.array(penalty_matrix)\n",
    "\n",
    "# Example data\n",
    "players = [\n",
    "    [2, 8, 4, 7],\n",
    "    [5, 6, 3, 2]\n",
    "]\n",
    "\n",
    "tasks = [\n",
    "    [1, 10, 3, 7],\n",
    "    [4, 7, 2, 6]\n",
    "]\n",
    "\n",
    "# Calculate the penalty matrix\n",
    "penalty_matrix = calculate_penalty_matrix(players, tasks)\n",
    "\n",
    "# Convert to DataFrame for better readability (optional)\n",
    "penalty_df = pd.DataFrame(\n",
    "    penalty_matrix, \n",
    "    index=[f'Player {i+1}' for i in range(len(players))],\n",
    "    columns=[f'Task {j+1}' for j in range(len(tasks))]\n",
    ")\n",
    "\n",
    "print(penalty_df)\n"
   ],
   "id": "c09b200914c093c9",
   "outputs": [
    {
     "name": "stdout",
     "output_type": "stream",
     "text": [
      "          Task 1  Task 2\n",
      "Player 1       2       2\n",
      "Player 2       9       5\n"
     ]
    }
   ],
   "execution_count": 4
  },
  {
   "metadata": {
    "ExecuteTime": {
     "end_time": "2024-11-20T19:18:09.708861Z",
     "start_time": "2024-11-20T19:18:09.504105Z"
    }
   },
   "cell_type": "code",
   "source": [
    "import numpy as np\n",
    "from scipy.optimize import linear_sum_assignment\n",
    "\n",
    "def minimize_sum(matrix):\n",
    "    \"\"\"\n",
    "    Find the minimum sum by assigning each column a unique value from a row\n",
    "    such that no two values come from the same row or column.\n",
    "    \n",
    "    Args:\n",
    "    - matrix: A 2D numpy array (p x t) where p represents rows and t represents columns.\n",
    "    \n",
    "    Returns:\n",
    "    - total_sum: The minimum sum achieved.\n",
    "    - assignment: List of (row, column) assignments for the minimum sum.\n",
    "    \"\"\"\n",
    "    # Use the Hungarian algorithm\n",
    "    row_indices, col_indices = linear_sum_assignment(matrix)\n",
    "    \n",
    "    # Calculate the minimum sum\n",
    "    total_sum = matrix[row_indices, col_indices].sum()\n",
    "    \n",
    "    # Return the sum and the assignments\n",
    "    return total_sum, list(zip(row_indices, col_indices))\n",
    "\n",
    "# Example matrix (p x t)\n",
    "matrix = np.array([\n",
    "    [4, 1, 3],\n",
    "    [2, 0, 5],\n",
    "    [3, 2, 2]\n",
    "])\n",
    "\n",
    "# Find the minimum sum and assignment\n",
    "min_sum, assignments = minimize_sum(matrix)\n",
    "\n",
    "# Output the results\n",
    "print(\"Minimum Sum:\", min_sum)\n",
    "print(\"Assignments (row -> column):\", assignments)\n"
   ],
   "id": "cd713363994775f6",
   "outputs": [
    {
     "name": "stdout",
     "output_type": "stream",
     "text": [
      "Minimum Sum: 5\n",
      "Assignments (row -> column): [(np.int64(0), np.int64(1)), (np.int64(1), np.int64(0)), (np.int64(2), np.int64(2))]\n"
     ]
    }
   ],
   "execution_count": 3
  },
  {
   "metadata": {},
   "cell_type": "code",
   "outputs": [],
   "execution_count": null,
   "source": "",
   "id": "1a809eae19f59d9"
  }
 ],
 "metadata": {
  "kernelspec": {
   "display_name": "Python 3",
   "language": "python",
   "name": "python3"
  },
  "language_info": {
   "codemirror_mode": {
    "name": "ipython",
    "version": 2
   },
   "file_extension": ".py",
   "mimetype": "text/x-python",
   "name": "python",
   "nbconvert_exporter": "python",
   "pygments_lexer": "ipython2",
   "version": "2.7.6"
  }
 },
 "nbformat": 4,
 "nbformat_minor": 5
}
